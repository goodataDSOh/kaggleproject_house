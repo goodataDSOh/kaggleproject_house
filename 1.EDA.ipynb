{
 "cells": [
  {
   "cell_type": "code",
   "execution_count": 1,
   "metadata": {
    "collapsed": true
   },
   "outputs": [],
   "source": [
    "import pandas as pd\n",
    "import re\n",
    "\n",
    "from tqdm import tqdm\n",
    "from collections import Counter"
   ]
  },
  {
   "cell_type": "code",
   "execution_count": 2,
   "metadata": {
    "collapsed": false
   },
   "outputs": [],
   "source": [
    "# zip 파일 로드\n",
    "\n",
    "biology_df = pd.read_csv('zip/biology.csv.zip', compression='zip', header=0, sep = ',', quotechar='\"')\n",
    "cooking_df = pd.read_csv('zip/cooking.csv.zip', compression='zip', header=0, sep = ',', quotechar='\"')\n",
    "crypto_df = pd.read_csv('zip/crypto.csv.zip', compression='zip', header=0, sep = ',', quotechar='\"')\n",
    "diy_df = pd.read_csv('zip/diy.csv.zip', compression='zip', header=0, sep = ',', quotechar='\"')\n",
    "robotics_df = pd.read_csv('zip/robotics.csv.zip', compression='zip', header=0, sep = ',', quotechar='\"')\n",
    "travel_df = pd.read_csv('zip/travel.csv.zip', compression='zip', header=0, sep = ',', quotechar='\"')\n",
    "test_df = pd.read_csv('zip/test.csv.zip', compression='zip', header=0, sep = ',', quotechar='\"')"
   ]
  },
  {
   "cell_type": "code",
   "execution_count": 3,
   "metadata": {
    "collapsed": false,
    "scrolled": true
   },
   "outputs": [
    {
     "name": "stderr",
     "output_type": "stream",
     "text": [
      " 17%|█▋        | 1/6 [00:00<00:01,  3.14it/s]"
     ]
    },
    {
     "name": "stdout",
     "output_type": "stream",
     "text": [
      "----------------------------------------------------------------------------------------------------\n",
      "-- biology_df : 33129 678 48.86 --\n",
      "[('human-biology', 1448), ('genetics', 1229), ('evolution', 1159), ('biochemistry', 984), ('molecular-biology', 863), ('cell-biology', 759), ('bioinformatics', 663), ('dna', 637), ('neuroscience', 614), ('botany', 565), ('physiology', 556), ('zoology', 545), ('proteins', 443), ('microbiology', 421), ('species-identification', 416), ('entomology', 378), ('homework', 372), ('molecular-genetics', 337), ('immunology', 331), ('bacteriology', 312)]\n"
     ]
    },
    {
     "name": "stderr",
     "output_type": "stream",
     "text": [
      "\r",
      " 33%|███▎      | 2/6 [00:00<00:01,  3.25it/s]"
     ]
    },
    {
     "name": "stdout",
     "output_type": "stream",
     "text": [
      "----------------------------------------------------------------------------------------------------\n",
      "-- crypto_df : 58613 1061 55.24 --\n",
      "[('encryption', 1783), ('human-biology', 1448), ('genetics', 1229), ('evolution', 1159), ('hash', 1141), ('rsa', 1095), ('biochemistry', 984), ('aes', 923), ('molecular-biology', 863), ('public-key', 842), ('cell-biology', 759), ('cryptanalysis', 742), ('bioinformatics', 663), ('dna', 637), ('neuroscience', 614), ('elliptic-curves', 575), ('botany', 565), ('physiology', 556), ('zoology', 545), ('signature', 456)]\n"
     ]
    },
    {
     "name": "stderr",
     "output_type": "stream",
     "text": [
      "\r",
      " 50%|█████     | 3/6 [00:01<00:01,  2.76it/s]"
     ]
    },
    {
     "name": "stdout",
     "output_type": "stream",
     "text": [
      "----------------------------------------------------------------------------------------------------\n",
      "-- travel_df : 123947 2685 46.16 --\n",
      "[('visas', 3829), ('air-travel', 2273), ('usa', 2168), ('encryption', 1783), ('schengen', 1561), ('uk', 1492), ('human-biology', 1448), ('genetics', 1229), ('evolution', 1159), ('hash', 1141), ('rsa', 1095), ('customs-and-immigration', 1067), ('transit', 1016), ('biochemistry', 984), ('aes', 923), ('trains', 864), ('molecular-biology', 863), ('public-key', 842), ('cell-biology', 759), ('cryptanalysis', 742)]\n"
     ]
    },
    {
     "name": "stderr",
     "output_type": "stream",
     "text": [
      "\r",
      " 67%|██████▋   | 4/6 [00:01<00:00,  2.21it/s]"
     ]
    },
    {
     "name": "stdout",
     "output_type": "stream",
     "text": [
      "----------------------------------------------------------------------------------------------------\n",
      "-- diy_df : 183076 3390 54.0 --\n",
      "[('electrical', 4490), ('visas', 3829), ('air-travel', 2273), ('plumbing', 2223), ('usa', 2168), ('encryption', 1783), ('wiring', 1674), ('schengen', 1561), ('uk', 1522), ('human-biology', 1448), ('genetics', 1229), ('evolution', 1159), ('hash', 1141), ('rsa', 1095), ('customs-and-immigration', 1067), ('transit', 1016), ('lighting', 1003), ('biochemistry', 984), ('aes', 923), ('hvac', 922)]\n"
     ]
    },
    {
     "name": "stderr",
     "output_type": "stream",
     "text": [
      "100%|██████████| 6/6 [00:02<00:00,  3.02it/s]"
     ]
    },
    {
     "name": "stdout",
     "output_type": "stream",
     "text": [
      "----------------------------------------------------------------------------------------------------\n",
      "-- cooking_df : 218618 4066 53.77 --\n",
      "[('electrical', 4490), ('visas', 3829), ('air-travel', 2273), ('plumbing', 2223), ('usa', 2168), ('encryption', 1783), ('wiring', 1674), ('schengen', 1561), ('uk', 1522), ('human-biology', 1448), ('baking', 1444), ('genetics', 1229), ('food-safety', 1211), ('evolution', 1159), ('hash', 1141), ('rsa', 1095), ('customs-and-immigration', 1067), ('transit', 1016), ('lighting', 1003), ('biochemistry', 984)]\n",
      "----------------------------------------------------------------------------------------------------\n",
      "-- robotics_df : 225138 4268 52.75 --\n",
      "[('electrical', 4490), ('visas', 3829), ('air-travel', 2273), ('plumbing', 2223), ('usa', 2168), ('encryption', 1783), ('wiring', 1680), ('schengen', 1561), ('uk', 1522), ('human-biology', 1448), ('baking', 1444), ('genetics', 1229), ('food-safety', 1211), ('evolution', 1159), ('hash', 1141), ('rsa', 1095), ('customs-and-immigration', 1067), ('transit', 1016), ('lighting', 1003), ('biochemistry', 984)]\n"
     ]
    },
    {
     "name": "stderr",
     "output_type": "stream",
     "text": [
      "\n"
     ]
    }
   ],
   "source": [
    "# tag count\n",
    "\n",
    "splitter = re.compile(' ')\n",
    "tagsList = []\n",
    "\n",
    "dfs = {'biology_df' : biology_df, 'cooking_df' : cooking_df, 'crypto_df' : crypto_df, \n",
    "        'diy_df' : diy_df, 'robotics_df' : robotics_df, 'travel_df' : travel_df}\n",
    "\n",
    "for k, v in tqdm(dfs.items()):\n",
    "    for tag in range(0, len(v)):\n",
    "        tags = v.tags.iloc[tag]\n",
    "        tagsList += re.split(splitter, tags)\n",
    "\n",
    "    print('-'*100)\n",
    "    print('--', k, ':' ,len(tagsList), len(set(tagsList)), round(len(tagsList)/len(set(tagsList)), 2), '--')\n",
    "    print(Counter(tagsList).most_common(20))"
   ]
  },
  {
   "cell_type": "code",
   "execution_count": 4,
   "metadata": {
    "collapsed": false
   },
   "outputs": [
    {
     "name": "stderr",
     "output_type": "stream",
     "text": [
      "100%|██████████| 6/6 [00:03<00:00,  2.05it/s]\n"
     ]
    }
   ],
   "source": [
    "# tag count\n",
    "\n",
    "splitter = re.compile(' ')\n",
    "tag_count_list = []\n",
    "temp_list = []\n",
    "tagsList = []\n",
    "\n",
    "dfs = {'biology_df' : biology_df, 'cooking_df' : cooking_df, 'crypto_df' : crypto_df, \n",
    "        'diy_df' : diy_df, 'robotics_df' : robotics_df, 'travel_df' : travel_df}\n",
    "\n",
    "for k, v in tqdm(dfs.items()):\n",
    "\n",
    "    for tag in range(0, len(v)):\n",
    "\n",
    "        tags = re.split(splitter, v.tags.iloc[tag])\n",
    "        docs_len = len(v.content.iloc[tag])\n",
    "        temp_list.append([docs_len, len(tags)])\n",
    "    tag_count_list.append(temp_list)"
   ]
  },
  {
   "cell_type": "code",
   "execution_count": 5,
   "metadata": {
    "collapsed": false,
    "scrolled": false
   },
   "outputs": [
    {
     "name": "stdout",
     "output_type": "stream",
     "text": [
      "------------------------------\n",
      "0\n",
      "5\n",
      "1\n",
      "2.58779310345\n",
      "------------------------------\n",
      "1\n",
      "5\n",
      "1\n",
      "2.58779310345\n",
      "------------------------------\n",
      "2\n",
      "5\n",
      "1\n",
      "2.58779310345\n",
      "------------------------------\n",
      "3\n",
      "5\n",
      "1\n",
      "2.58779310345\n",
      "------------------------------\n",
      "4\n",
      "5\n",
      "1\n",
      "2.58779310345\n",
      "------------------------------\n",
      "5\n",
      "5\n",
      "1\n",
      "2.58779310345\n"
     ]
    }
   ],
   "source": [
    "for i in range(0, len(tag_count_list)):\n",
    "    print('-'*30)\n",
    "    print(i)\n",
    "    print(pd.DataFrame(tag_count_list[i])[1].max())\n",
    "    print(pd.DataFrame(tag_count_list[i])[1].min())\n",
    "    print(pd.DataFrame(tag_count_list[i])[1].mean())\n",
    "#     print(pd.DataFrame(df_list[i]).corr())"
   ]
  },
  {
   "cell_type": "code",
   "execution_count": null,
   "metadata": {
    "collapsed": true
   },
   "outputs": [],
   "source": []
  }
 ],
 "metadata": {
  "anaconda-cloud": {},
  "kernelspec": {
   "display_name": "Python 3",
   "language": "python",
   "name": "python3"
  },
  "language_info": {
   "codemirror_mode": {
    "name": "ipython",
    "version": 3
   },
   "file_extension": ".py",
   "mimetype": "text/x-python",
   "name": "python",
   "nbconvert_exporter": "python",
   "pygments_lexer": "ipython3",
   "version": "3.5.0"
  }
 },
 "nbformat": 4,
 "nbformat_minor": 1
}
